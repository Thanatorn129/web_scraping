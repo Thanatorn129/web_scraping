{
 "cells": [
  {
   "cell_type": "code",
   "execution_count": 1,
   "id": "6f23e60c",
   "metadata": {},
   "outputs": [],
   "source": [
    "import requests\n",
    "import urllib.parse\n",
    "from bs4 import BeautifulSoup\n",
    "from time import sleep\n",
    "import copy"
   ]
  },
  {
   "cell_type": "code",
   "execution_count": 2,
   "id": "482b0080",
   "metadata": {},
   "outputs": [
    {
     "name": "stdout",
     "output_type": "stream",
     "text": [
      "<Response [200]>\n",
      "200 OK\n",
      "{'date': 'Mon, 16 Oct 2023 02:59:02 GMT', 'server': 'mw2431.codfw.wmnet', 'x-content-type-options': 'nosniff', 'content-language': 'th', 'accept-ch': '', 'vary': 'Accept-Encoding,Cookie', 'last-modified': 'Sun, 15 Oct 2023 06:37:04 GMT', 'content-type': 'text/html; charset=UTF-8', 'content-encoding': 'gzip', 'age': '0', 'x-cache': 'cp5017 hit, cp5017 miss', 'x-cache-status': 'hit-local', 'server-timing': 'cache;desc=\"hit-local\", host;desc=\"cp5017\"', 'strict-transport-security': 'max-age=106384710; includeSubDomains; preload', 'report-to': '{ \"group\": \"wm_nel\", \"max_age\": 604800, \"endpoints\": [{ \"url\": \"https://intake-logging.wikimedia.org/v1/events?stream=w3c.reportingapi.network_error&schema_uri=/w3c/reportingapi/network_error/1.0.0\" }] }', 'nel': '{ \"report_to\": \"wm_nel\", \"max_age\": 604800, \"failure_fraction\": 0.05, \"success_fraction\": 0.0}', 'set-cookie': 'WMF-Last-Access=16-Oct-2023;Path=/;HttpOnly;secure;Expires=Fri, 17 Nov 2023 00:00:00 GMT, WMF-Last-Access-Global=16-Oct-2023;Path=/;Domain=.wikipedia.org;HttpOnly;secure;Expires=Fri, 17 Nov 2023 00:00:00 GMT, WMF-DP=1fe;Path=/;HttpOnly;secure;Expires=Mon, 16 Oct 2023 00:00:00 GMT, GeoIP=TH:12:Nonthaburi:13.90:100.44:v4; Path=/; secure; Domain=.wikipedia.org, NetworkProbeLimit=0.001;Path=/;Secure;Max-Age=3600', 'x-client-ip': '2001:fb1:3d:cee4:811c:fca:1a0f:480', 'cache-control': 'private, s-maxage=0, max-age=0, must-revalidate', 'accept-ranges': 'bytes', 'transfer-encoding': 'chunked'}\n"
     ]
    }
   ],
   "source": [
    "response = requests.get('https://th.wikipedia.org/w/index.php?title=จีดีเอช&oldid=8244422')\n",
    "\n",
    "print(response)\n",
    "print(response.status_code, response.reason)\n",
    "print(response.headers)"
   ]
  },
  {
   "cell_type": "code",
   "execution_count": 3,
   "id": "e32cde17",
   "metadata": {},
   "outputs": [
    {
     "name": "stdout",
     "output_type": "stream",
     "text": [
      "<!DOCTYPE html>\n",
      "<html class=\"client-nojs vector-feature-language-in-header-enabled vector-feature-language-in-main-page-header-disabled vector-feature-sticky-header-disabled vector-feature-page-tools-pinned-disabled vector-feature-toc-pinned-clientpref-1 vector-feature-main-menu-pinned-disabled vector-feature-limited-width-clientpref-1 vector-feature-limited-width-content-enabled vector-feature-zebra-design-disabled vector-feature-custom-font-size-clientpref-disabled vector-feature-client-prefer\n"
     ]
    }
   ],
   "source": [
    "html = response.text\n",
    "print(html[0:500])"
   ]
  },
  {
   "cell_type": "code",
   "execution_count": 4,
   "id": "8d7df784",
   "metadata": {},
   "outputs": [
    {
     "name": "stdout",
     "output_type": "stream",
     "text": [
      "<!DOCTYPE html>\n",
      "<html class=\"client-nojs vector-feature-language-in-header-enabled vector-feature-language-in-main-page-header-disabled vector-feature-sticky-header-disabled vector-feature-page-tools-pinned-disabled vector-feature-toc-pinned-clientpref-1 vector-feature-main-menu-pinned-disabled vector-feature-limited-width-clientpref-1 vector-feature-limited-width-content-enabled vector-feature-zebra-design-disabled vector-feature-custom-font-size-clientpref-disabled vector-feature-client-prefer\n"
     ]
    }
   ],
   "source": [
    "soup = BeautifulSoup(html, 'html.parser')\n",
    "print(soup.prettify()[0:500])"
   ]
  },
  {
   "cell_type": "code",
   "execution_count": 5,
   "id": "00820d59",
   "metadata": {},
   "outputs": [
    {
     "data": {
      "text/plain": [
       "[<b>GDH</b>,\n",
       " <b>นี่เป็น<a href=\"/wiki/%E0%B8%A7%E0%B8%B4%E0%B8%98%E0%B8%B5%E0%B9%83%E0%B8%8A%E0%B9%89:%E0%B8%9B%E0%B8%A3%E0%B8%B0%E0%B8%A7%E0%B8%B1%E0%B8%95%E0%B8%B4%E0%B8%AB%E0%B8%99%E0%B9%89%E0%B8%B2\" title=\"วิธีใช้:ประวัติหน้า\">รุ่นแก้ไขเก่า</a>ของหน้านี้ ที่แก้ไขโดย <span id=\"mw-revision-name\"><a class=\"mw-userlink mw-anonuserlink\" data-mw-revid=\"8244422\" href=\"/wiki/%E0%B8%9E%E0%B8%B4%E0%B9%80%E0%B8%A8%E0%B8%A9:%E0%B9%80%E0%B8%A3%E0%B8%B7%E0%B9%88%E0%B8%AD%E0%B8%87%E0%B8%97%E0%B8%B5%E0%B9%88%E0%B9%80%E0%B8%82%E0%B8%B5%E0%B8%A2%E0%B8%99/223.204.218.13\" title=\"พิเศษ:เรื่องที่เขียน/223.204.218.13\"><bdi>223.204.218.13</bdi></a> <span class=\"mw-usertoollinks\">(<a class=\"new mw-usertoollinks-talk\" href=\"/w/index.php?title=%E0%B8%84%E0%B8%B8%E0%B8%A2%E0%B8%81%E0%B8%B1%E0%B8%9A%E0%B8%9C%E0%B8%B9%E0%B9%89%E0%B9%83%E0%B8%8A%E0%B9%89:223.204.218.13&amp;action=edit&amp;redlink=1\" title=\"คุยกับผู้ใช้:223.204.218.13 (ไม่มีหน้านี้)\">คุย</a>)</span></span> เมื่อ <span id=\"mw-revision-date\">19:58, 24 เมษายน 2562</span><span id=\"mw-revision-summary\"> <span class=\"comment\">(<span dir=\"auto\"><span class=\"autocomment\"><a href=\"#นักแสดงในสังกัด\">→‎นักแสดงในสังกัด</a></span></span>)</span></span> ซึ่งอาจแตกต่างจาก<span class=\"plainlinks\"><a class=\"external text\" href=\"https://th.wikipedia.org/wiki/%E0%B8%88%E0%B8%B5%E0%B8%94%E0%B8%B5%E0%B9%80%E0%B8%AD%E0%B8%8A\">รุ่นแก้ไขปัจจุบัน</a></span>มาก</b>,\n",
       " <b>จีดีเอช</b>,\n",
       " <b>บริษัท จีดีเอช ห้าห้าเก้า จำกัด</b>,\n",
       " <b>GDH</b>,\n",
       " <b>จีดีเอช ห้าห้าเก้า</b>,\n",
       " <b>จีดีเอช</b>,\n",
       " <b>ผู้กำกับภาพยนตร์</b>,\n",
       " <b>GDH</b>,\n",
       " <b>นาดาวบางกอก</b>,\n",
       " <b>ภาพดีทวีสุข</b>,\n",
       " <b>งานดีทวีสุข</b>,\n",
       " <b>อดีตนักแสดงในสังกัด</b>,\n",
       " <b>นักแสดงนอกสังกัดที่เคยร่วมมีผลงาน</b>,\n",
       " <b>110.91 ล้านบาท</b>,\n",
       " <b>112.15 ล้านบาท</b>,\n",
       " <b>146.14 ล้านบาท</b>,\n",
       " <b>130.08 ล้านบาท</b>,\n",
       " <b>รายการท่องเที่ยว</b>,\n",
       " <b>ปกิณกะ</b>,\n",
       " <b>รายการวาไรตี้</b>,\n",
       " <b>ข่าวและสาระเชิงข่าว</b>,\n",
       " <b>สารคดี</b>,\n",
       " <b>ปกิณกะ</b>,\n",
       " <b>คมชัดลึก</b>,\n",
       " <b>บุคคลสำคัญ</b>,\n",
       " <b>ภาพยนตร์</b>,\n",
       " <b>โทรทัศน์</b>,\n",
       " <b>2559</b>,\n",
       " <b>2560</b>,\n",
       " <b>2561</b>,\n",
       " <b>2562</b>,\n",
       " <b>2563</b>,\n",
       " <b>2564</b>,\n",
       " <b>ส่วนเกี่ยวข้อง</b>,\n",
       " <b>ดูเพิ่มเติม</b>]"
      ]
     },
     "execution_count": 5,
     "metadata": {},
     "output_type": "execute_result"
    }
   ],
   "source": [
    "soup.find_all('b')\n",
    "# soup('b')"
   ]
  },
  {
   "cell_type": "code",
   "execution_count": 6,
   "id": "5b7aed16",
   "metadata": {},
   "outputs": [
    {
     "data": {
      "text/plain": [
       "<b>ผู้กำกับภาพยนตร์</b>"
      ]
     },
     "execution_count": 6,
     "metadata": {},
     "output_type": "execute_result"
    }
   ],
   "source": [
    "soup.find('b', string='ผู้กำกับภาพยนตร์')"
   ]
  },
  {
   "cell_type": "code",
   "execution_count": 7,
   "id": "0387c4a8",
   "metadata": {},
   "outputs": [
    {
     "name": "stdout",
     "output_type": "stream",
     "text": [
      "<ul><li><a href=\"/wiki/%E0%B8%88%E0%B8%B4%E0%B8%A3%E0%B8%B0_%E0%B8%A1%E0%B8%B0%E0%B8%A5%E0%B8%B4%E0%B8%81%E0%B8%B8%E0%B8%A5\" title=\"จิระ มะลิกุล\">จิระ มะลิกุล</a></li>\n",
      "<li><a href=\"/wiki/%E0%B8%A2%E0%B8%87%E0%B8%A2%E0%B8%B8%E0%B8%97%E0%B8%98_%E0%B8%97%E0%B8%AD%E0%B8%87%E0%B8%81%E0%B8%AD%E0%B8%87%E0%B8%97%E0%B8%B8%E0%B8%99\" title=\"ยงยุทธ ทองกองทุน\">ยงยุทธ ทองกองทุน</a></li>\n",
      "<li><a href=\"/wiki/%E0%B8%AD%E0%B8%94%E0%B8%B4%E0%B8%AA%E0%B8%A3%E0%B8%93%E0%B9%8C_%E0%B8%95%E0%B8%A3%E0%B8%B5%E0%B8%AA%E0%B8%B4%E0%B8%A3%E0%B8%B4%E0%B9%80%E0%B8%81%E0%B8%A9%E0%B8%A1\" title=\"อดิสรณ์ ตรีสิริเกษม\">อดิสรณ์ ตรีสิริเกษม</a></li>\n",
      "<li><a href=\"/wiki/%E0%B8%97%E0%B8%A3%E0%B8%87%E0%B8%A2%E0%B8%A8_%E0%B8%AA%E0%B8%B8%E0%B8%82%E0%B8%A1%E0%B8%B2%E0%B8%81%E0%B8%AD%E0%B8%99%E0%B8%B1%E0%B8%99%E0%B8%95%E0%B9%8C\" title=\"ทรงยศ สุขมากอนันต์\">ทรงยศ สุขมากอนันต์</a></li>\n",
      "<li><a href=\"/wiki/%E0%B8%A7%E0%B8%B4%E0%B8%97%E0%B8%A2%E0%B8%B2_%E0%B8%97%E0%B8%AD%E0%B8%87%E0%B8%AD%E0%B8%A2%E0%B8%B9%E0%B9%88%E0%B8%A2%E0%B8%87\" title=\"วิทยา ทองอยู่ยง\">วิทยา ทองอยู่ยง</a></li>\n",
      "<li><a href=\"/wiki/%E0%B8%99%E0%B8%B4%E0%B8%98%E0%B8%B4%E0%B8%A7%E0%B8%B1%E0%B8%92%E0%B8%99%E0%B9%8C_%E0%B8%98%E0%B8%A3%E0%B8%B2%E0%B8%98%E0%B8%A3\" title=\"นิธิวัฒน์ ธราธร\">นิธิวัฒน์ ธราธร</a></li>\n",
      "<li><a href=\"/wiki/%E0%B8%84%E0%B8%A1%E0%B8%81%E0%B8%A4%E0%B8%A9_%E0%B8%95%E0%B8%A3%E0%B8%B5%E0%B8%A7%E0%B8%B4%E0%B8%A1%E0%B8%A5\" title=\"คมกฤษ ตรีวิมล\">คมกฤษ ตรีวิมล</a></li>\n",
      "<li><a href=\"/wiki/%E0%B8%9B%E0%B8%A7%E0%B8%B5%E0%B8%93_%E0%B8%A0%E0%B8%B9%E0%B8%A3%E0%B8%B4%E0%B8%88%E0%B8%B4%E0%B8%95%E0%B8%9B%E0%B8%B1%E0%B8%8D%E0%B8%8D%E0%B8%B2\" title=\"ปวีณ ภูริจิตปัญญา\">ปวีณ ภูริจิตปัญญา</a></li>\n",
      "<li><a href=\"/wiki/%E0%B8%9A%E0%B8%A3%E0%B8%A3%E0%B8%88%E0%B8%87_%E0%B8%9B%E0%B8%B4%E0%B8%AA%E0%B8%B1%E0%B8%8D%E0%B8%98%E0%B8%99%E0%B8%B0%E0%B8%81%E0%B8%B9%E0%B8%A5\" title=\"บรรจง ปิสัญธนะกูล\">บรรจง ปิสัญธนะกูล</a></li>\n",
      "<li><a href=\"/wiki/%E0%B8%A0%E0%B8%B2%E0%B8%84%E0%B8%A0%E0%B8%B9%E0%B8%A1%E0%B8%B4_%E0%B8%A7%E0%B8%87%E0%B8%A8%E0%B9%8C%E0%B8%A0%E0%B8%B9%E0%B8%A1%E0%B8%B4\" title=\"ภาคภูมิ วงศ์ภูมิ\">ภาคภูมิ วงศ์ภูมิ</a></li>\n",
      "<li><a href=\"/wiki/%E0%B9%82%E0%B8%AA%E0%B8%A0%E0%B8%93_%E0%B8%A8%E0%B8%B1%E0%B8%81%E0%B8%94%E0%B8%B2%E0%B8%9E%E0%B8%B4%E0%B8%A8%E0%B8%B4%E0%B8%A9%E0%B8%8F%E0%B9%8C\" title=\"โสภณ ศักดาพิศิษฏ์\">โสภณ ศักดาพิศิษฏ์</a></li>\n",
      "<li><a href=\"/wiki/%E0%B9%80%E0%B8%A1%E0%B8%A9_%E0%B8%98%E0%B8%A3%E0%B8%B2%E0%B8%98%E0%B8%A3\" title=\"เมษ ธราธร\">เมษ ธราธร</a></li>\n",
      "<li><a href=\"/wiki/%E0%B8%8A%E0%B8%A2%E0%B8%99%E0%B8%9E_%E0%B8%9A%E0%B8%B8%E0%B8%8D%E0%B8%9B%E0%B8%A3%E0%B8%B0%E0%B8%81%E0%B8%AD%E0%B8%9A\" title=\"ชยนพ บุญประกอบ\">ชยนพ บุญประกอบ</a></li>\n",
      "<li><a href=\"/wiki/%E0%B8%99%E0%B8%A7%E0%B8%9E%E0%B8%A5_%E0%B8%98%E0%B8%B3%E0%B8%A3%E0%B8%87%E0%B8%A3%E0%B8%B1%E0%B8%95%E0%B8%99%E0%B8%A4%E0%B8%97%E0%B8%98%E0%B8%B4%E0%B9%8C\" title=\"นวพล ธำรงรัตนฤทธิ์\">นวพล ธำรงรัตนฤทธิ์</a></li></ul>\n"
     ]
    }
   ],
   "source": [
    "director_list = soup.find('b', string='ผู้กำกับภาพยนตร์').find_next('ul')\n",
    "print(director_list)"
   ]
  },
  {
   "cell_type": "code",
   "execution_count": 8,
   "id": "55d9eb08",
   "metadata": {},
   "outputs": [
    {
     "name": "stdout",
     "output_type": "stream",
     "text": [
      "<ul><li><a href=\"/wiki/%E0%B8%88%E0%B8%B4%E0%B8%A3%E0%B8%B0_%E0%B8%A1%E0%B8%B0%E0%B8%A5%E0%B8%B4%E0%B8%81%E0%B8%B8%E0%B8%A5\" title=\"จิระ มะลิกุล\">จิระ มะลิกุล</a></li>\n",
      "<li><a href=\"/wiki/%E0%B8%A2%E0%B8%87%E0%B8%A2%E0%B8%B8%E0%B8%97%E0%B8%98_%E0%B8%97%E0%B8%AD%E0%B8%87%E0%B8%81%E0%B8%AD%E0%B8%87%E0%B8%97%E0%B8%B8%E0%B8%99\" title=\"ยงยุทธ ทองกองทุน\">ยงยุทธ ทองกองทุน</a></li>\n",
      "<li><a href=\"/wiki/%E0%B8%AD%E0%B8%94%E0%B8%B4%E0%B8%AA%E0%B8%A3%E0%B8%93%E0%B9%8C_%E0%B8%95%E0%B8%A3%E0%B8%B5%E0%B8%AA%E0%B8%B4%E0%B8%A3%E0%B8%B4%E0%B9%80%E0%B8%81%E0%B8%A9%E0%B8%A1\" title=\"อดิสรณ์ ตรีสิริเกษม\">อดิสรณ์ ตรีสิริเกษม</a></li>\n",
      "<li><a href=\"/wiki/%E0%B8%97%E0%B8%A3%E0%B8%87%E0%B8%A2%E0%B8%A8_%E0%B8%AA%E0%B8%B8%E0%B8%82%E0%B8%A1%E0%B8%B2%E0%B8%81%E0%B8%AD%E0%B8%99%E0%B8%B1%E0%B8%99%E0%B8%95%E0%B9%8C\" title=\"ทรงยศ สุขมากอนันต์\">ทรงยศ สุขมากอนันต์</a></li>\n",
      "<li><a href=\"/wiki/%E0%B8%A7%E0%B8%B4%E0%B8%97%E0%B8%A2%E0%B8%B2_%E0%B8%97%E0%B8%AD%E0%B8%87%E0%B8%AD%E0%B8%A2%E0%B8%B9%E0%B9%88%E0%B8%A2%E0%B8%87\" title=\"วิทยา ทองอยู่ยง\">วิทยา ทองอยู่ยง</a></li>\n",
      "<li><a href=\"/wiki/%E0%B8%99%E0%B8%B4%E0%B8%98%E0%B8%B4%E0%B8%A7%E0%B8%B1%E0%B8%92%E0%B8%99%E0%B9%8C_%E0%B8%98%E0%B8%A3%E0%B8%B2%E0%B8%98%E0%B8%A3\" title=\"นิธิวัฒน์ ธราธร\">นิธิวัฒน์ ธราธร</a></li>\n",
      "<li><a href=\"/wiki/%E0%B8%84%E0%B8%A1%E0%B8%81%E0%B8%A4%E0%B8%A9_%E0%B8%95%E0%B8%A3%E0%B8%B5%E0%B8%A7%E0%B8%B4%E0%B8%A1%E0%B8%A5\" title=\"คมกฤษ ตรีวิมล\">คมกฤษ ตรีวิมล</a></li>\n",
      "<li><a href=\"/wiki/%E0%B8%9B%E0%B8%A7%E0%B8%B5%E0%B8%93_%E0%B8%A0%E0%B8%B9%E0%B8%A3%E0%B8%B4%E0%B8%88%E0%B8%B4%E0%B8%95%E0%B8%9B%E0%B8%B1%E0%B8%8D%E0%B8%8D%E0%B8%B2\" title=\"ปวีณ ภูริจิตปัญญา\">ปวีณ ภูริจิตปัญญา</a></li>\n",
      "<li><a href=\"/wiki/%E0%B8%9A%E0%B8%A3%E0%B8%A3%E0%B8%88%E0%B8%87_%E0%B8%9B%E0%B8%B4%E0%B8%AA%E0%B8%B1%E0%B8%8D%E0%B8%98%E0%B8%99%E0%B8%B0%E0%B8%81%E0%B8%B9%E0%B8%A5\" title=\"บรรจง ปิสัญธนะกูล\">บรรจง ปิสัญธนะกูล</a></li>\n",
      "<li><a href=\"/wiki/%E0%B8%A0%E0%B8%B2%E0%B8%84%E0%B8%A0%E0%B8%B9%E0%B8%A1%E0%B8%B4_%E0%B8%A7%E0%B8%87%E0%B8%A8%E0%B9%8C%E0%B8%A0%E0%B8%B9%E0%B8%A1%E0%B8%B4\" title=\"ภาคภูมิ วงศ์ภูมิ\">ภาคภูมิ วงศ์ภูมิ</a></li>\n",
      "<li><a href=\"/wiki/%E0%B9%82%E0%B8%AA%E0%B8%A0%E0%B8%93_%E0%B8%A8%E0%B8%B1%E0%B8%81%E0%B8%94%E0%B8%B2%E0%B8%9E%E0%B8%B4%E0%B8%A8%E0%B8%B4%E0%B8%A9%E0%B8%8F%E0%B9%8C\" title=\"โสภณ ศักดาพิศิษฏ์\">โสภณ ศักดาพิศิษฏ์</a></li>\n",
      "<li><a href=\"/wiki/%E0%B9%80%E0%B8%A1%E0%B8%A9_%E0%B8%98%E0%B8%A3%E0%B8%B2%E0%B8%98%E0%B8%A3\" title=\"เมษ ธราธร\">เมษ ธราธร</a></li>\n",
      "<li><a href=\"/wiki/%E0%B8%8A%E0%B8%A2%E0%B8%99%E0%B8%9E_%E0%B8%9A%E0%B8%B8%E0%B8%8D%E0%B8%9B%E0%B8%A3%E0%B8%B0%E0%B8%81%E0%B8%AD%E0%B8%9A\" title=\"ชยนพ บุญประกอบ\">ชยนพ บุญประกอบ</a></li>\n",
      "<li><a href=\"/wiki/%E0%B8%99%E0%B8%A7%E0%B8%9E%E0%B8%A5_%E0%B8%98%E0%B8%B3%E0%B8%A3%E0%B8%87%E0%B8%A3%E0%B8%B1%E0%B8%95%E0%B8%99%E0%B8%A4%E0%B8%97%E0%B8%98%E0%B8%B4%E0%B9%8C\" title=\"นวพล ธำรงรัตนฤทธิ์\">นวพล ธำรงรัตนฤทธิ์</a></li></ul>\n"
     ]
    }
   ],
   "source": [
    "director_list = soup.find('b', string='ผู้กำกับภาพยนตร์').find_next_sibling('ul')\n",
    "print(director_list)"
   ]
  },
  {
   "cell_type": "code",
   "execution_count": 9,
   "id": "bf5e83c7",
   "metadata": {},
   "outputs": [
    {
     "name": "stdout",
     "output_type": "stream",
     "text": [
      "จิระ มะลิกุล\n",
      "ยงยุทธ ทองกองทุน\n",
      "อดิสรณ์ ตรีสิริเกษม\n",
      "ทรงยศ สุขมากอนันต์\n",
      "วิทยา ทองอยู่ยง\n",
      "นิธิวัฒน์ ธราธร\n",
      "คมกฤษ ตรีวิมล\n",
      "ปวีณ ภูริจิตปัญญา\n",
      "บรรจง ปิสัญธนะกูล\n",
      "ภาคภูมิ วงศ์ภูมิ\n",
      "โสภณ ศักดาพิศิษฏ์\n",
      "เมษ ธราธร\n",
      "ชยนพ บุญประกอบ\n",
      "นวพล ธำรงรัตนฤทธิ์\n"
     ]
    }
   ],
   "source": [
    "for li in director_list('li'):\n",
    "    print(li.a.get_text())"
   ]
  },
  {
   "cell_type": "code",
   "execution_count": 10,
   "id": "3cd12413",
   "metadata": {},
   "outputs": [
    {
     "data": {
      "text/plain": [
       "<b>นาดาวบางกอก</b>"
      ]
     },
     "execution_count": 10,
     "metadata": {},
     "output_type": "execute_result"
    }
   ],
   "source": [
    "soup.find('b',string = \"นาดาวบางกอก\")"
   ]
  },
  {
   "cell_type": "code",
   "execution_count": 11,
   "id": "05bea56f",
   "metadata": {},
   "outputs": [
    {
     "name": "stdout",
     "output_type": "stream",
     "text": [
      "<ul><li><a href=\"/wiki/%E0%B8%A8%E0%B8%B4%E0%B8%A3%E0%B8%8A%E0%B8%B1%E0%B8%8A_%E0%B9%80%E0%B8%88%E0%B8%B5%E0%B8%A2%E0%B8%A3%E0%B8%96%E0%B8%B2%E0%B8%A7%E0%B8%A3\" title=\"ศิรชัช เจียรถาวร\">ศิรชัช เจียรถาวร</a></li>\n",
      "<li><a href=\"/wiki/%E0%B8%81%E0%B8%B1%E0%B8%99%E0%B8%95%E0%B9%8C_%E0%B8%8A%E0%B8%B8%E0%B8%93%E0%B8%AB%E0%B8%A7%E0%B8%B1%E0%B8%95%E0%B8%A3\" title=\"กันต์ ชุณหวัตร\">กันต์ ชุณหวัตร</a></li>\n",
      "<li><a href=\"/wiki/%E0%B8%98%E0%B8%99%E0%B8%A0%E0%B8%9E_%E0%B8%A5%E0%B8%B5%E0%B8%A3%E0%B8%B1%E0%B8%95%E0%B8%99%E0%B8%82%E0%B8%88%E0%B8%A3\" title=\"ธนภพ ลีรัตนขจร\">ธนภพ ลีรัตนขจร</a></li>\n",
      "<li><a href=\"/wiki/%E0%B9%82%E0%B8%AD%E0%B8%9A%E0%B8%99%E0%B8%B4%E0%B8%98%E0%B8%B4_%E0%B8%A7%E0%B8%B4%E0%B8%A7%E0%B8%A3%E0%B8%A3%E0%B8%98%E0%B8%99%E0%B8%A7%E0%B8%A3%E0%B8%B2%E0%B8%87%E0%B8%84%E0%B9%8C\" title=\"โอบนิธิ วิวรรธนวรางค์\">โอบนิธิ วิวรรธนวรางค์</a></li>\n",
      "<li><a href=\"/wiki/%E0%B8%98%E0%B8%B4%E0%B8%95%E0%B8%B4_%E0%B8%A1%E0%B8%AB%E0%B8%B2%E0%B9%82%E0%B8%A2%E0%B8%98%E0%B8%B2%E0%B8%A3%E0%B8%B1%E0%B8%81%E0%B8%A9%E0%B9%8C\" title=\"ธิติ มหาโยธารักษ์\">ธิติ มหาโยธารักษ์</a></li>\n",
      "<li><a href=\"/wiki/%E0%B8%A7%E0%B8%87%E0%B8%A8%E0%B9%8C%E0%B8%A3%E0%B8%A7%E0%B8%B5_%E0%B8%99%E0%B8%97%E0%B8%B5%E0%B8%98%E0%B8%A3\" title=\"วงศ์รวี นทีธร\">วงศ์รวี นทีธร</a></li>\n",
      "<li><a href=\"/wiki/%E0%B8%81%E0%B8%A4%E0%B8%A9%E0%B8%93%E0%B8%A0%E0%B8%B9%E0%B8%A1%E0%B8%B4_%E0%B8%9E%E0%B8%B4%E0%B8%9A%E0%B8%B9%E0%B8%A5%E0%B8%AA%E0%B8%87%E0%B8%84%E0%B8%A3%E0%B8%B2%E0%B8%A1\" title=\"กฤษณภูมิ พิบูลสงคราม\">กฤษณภูมิ พิบูลสงคราม</a></li>\n",
      "<li><a href=\"/wiki/%E0%B8%8A%E0%B8%A5%E0%B8%98%E0%B8%A3_%E0%B8%84%E0%B8%87%E0%B8%A2%E0%B8%B4%E0%B9%88%E0%B8%87%E0%B8%A2%E0%B8%87\" title=\"ชลธร คงยิ่งยง\">ชลธร คงยิ่งยง</a></li>\n",
      "<li><a href=\"/wiki/%E0%B8%A8%E0%B8%99%E0%B8%B1%E0%B8%99%E0%B8%98%E0%B8%89%E0%B8%B1%E0%B8%95%E0%B8%A3_%E0%B8%98%E0%B8%99%E0%B8%9E%E0%B8%B1%E0%B8%92%E0%B8%99%E0%B9%8C%E0%B8%9E%E0%B8%B4%E0%B8%A8%E0%B8%B2%E0%B8%A5\" title=\"ศนันธฉัตร ธนพัฒน์พิศาล\">ศนันธฉัตร ธนพัฒน์พิศาล</a></li>\n",
      "<li><a href=\"/wiki/%E0%B9%80%E0%B8%82%E0%B8%A1%E0%B8%B4%E0%B8%A8%E0%B8%A3%E0%B8%B2_%E0%B8%9E%E0%B8%A5%E0%B9%80%E0%B8%94%E0%B8%8A\" title=\"เขมิศรา พลเดช\">เขมิศรา พลเดช</a></li>\n",
      "<li><a href=\"/wiki/%E0%B8%93%E0%B8%B4%E0%B8%8A%E0%B8%B2%E0%B8%A0%E0%B8%B1%E0%B8%97%E0%B8%A3_%E0%B8%89%E0%B8%B1%E0%B8%95%E0%B8%A3%E0%B8%8A%E0%B8%B1%E0%B8%A2%E0%B8%9E%E0%B8%A5%E0%B8%A3%E0%B8%B1%E0%B8%95%E0%B8%99%E0%B9%8C\" title=\"ณิชาภัทร ฉัตรชัยพลรัตน์\">ณิชาภัทร ฉัตรชัยพลรัตน์</a></li>\n",
      "<li><a href=\"/wiki/%E0%B8%99%E0%B8%A3%E0%B8%B5%E0%B8%81%E0%B8%B8%E0%B8%A5_%E0%B9%80%E0%B8%81%E0%B8%95%E0%B8%B8%E0%B8%9B%E0%B8%A3%E0%B8%B0%E0%B8%A0%E0%B8%B2%E0%B8%81%E0%B8%A3\" title=\"นรีกุล เกตุประภากร\">นรีกุล เกตุประภากร</a></li>\n",
      "<li><a href=\"/wiki/%E0%B8%81%E0%B8%B1%E0%B8%8D%E0%B8%8D%E0%B8%B2%E0%B8%A7%E0%B8%B5%E0%B8%A3%E0%B9%8C_%E0%B8%AA%E0%B8%AD%E0%B8%87%E0%B9%80%E0%B8%A1%E0%B8%B7%E0%B8%AD%E0%B8%87\" title=\"กัญญาวีร์ สองเมือง\">กัญญาวีร์ สองเมือง</a></li>\n",
      "<li><a href=\"/wiki/%E0%B8%A0%E0%B8%B2%E0%B8%A7%E0%B8%94%E0%B8%B5_%E0%B8%84%E0%B8%B8%E0%B9%89%E0%B8%A1%E0%B9%82%E0%B8%8A%E0%B8%84%E0%B9%84%E0%B8%9E%E0%B8%A8%E0%B8%B2%E0%B8%A5\" title=\"ภาวดี คุ้มโชคไพศาล\">ภาวดี คุ้มโชคไพศาล</a></li>\n",
      "<li><a href=\"/wiki/%E0%B8%8A%E0%B8%8D%E0%B8%B2%E0%B8%99%E0%B8%B4%E0%B8%A9%E0%B8%90%E0%B9%8C_%E0%B8%8A%E0%B8%B2%E0%B8%8D%E0%B8%AA%E0%B8%87%E0%B9%88%E0%B8%B2%E0%B9%80%E0%B8%A7%E0%B8%8A\" title=\"ชญานิษฐ์ ชาญสง่าเวช\">ชญานิษฐ์ ชาญสง่าเวช</a></li>\n",
      "<li><a href=\"/wiki/%E0%B8%99%E0%B8%A4%E0%B8%A0%E0%B8%A3%E0%B8%81%E0%B8%A1%E0%B8%A5_%E0%B8%89%E0%B8%B2%E0%B8%A2%E0%B9%81%E0%B8%AA%E0%B8%87\" title=\"นฤภรกมล ฉายแสง\">นฤภรกมล ฉายแสง</a></li>\n",
      "<li><a class=\"new\" href=\"/w/index.php?title=%E0%B8%AD%E0%B8%97%E0%B8%B4%E0%B8%95%E0%B8%A2%E0%B8%B2_%E0%B9%80%E0%B8%84%E0%B8%A3%E0%B8%81&amp;action=edit&amp;redlink=1\" title=\"อทิตยา เครก (ไม่มีหน้านี้)\">อทิตยา เครก</a></li>\n",
      "<li><a href=\"/wiki/%E0%B9%80%E0%B8%AA%E0%B8%8E%E0%B8%90%E0%B8%A7%E0%B8%B8%E0%B8%92%E0%B8%B4_%E0%B8%AD%E0%B8%99%E0%B8%B8%E0%B8%AA%E0%B8%B4%E0%B8%97%E0%B8%98%E0%B8%B4%E0%B9%8C\" title=\"เสฎฐวุฒิ อนุสิทธิ์\">เสฎฐวุฒิ อนุสิทธิ์</a></li>\n",
      "<li><a href=\"/wiki/%E0%B8%93%E0%B8%A0%E0%B8%B1%E0%B8%97%E0%B8%A3_%E0%B9%82%E0%B8%8A%E0%B8%84%E0%B8%88%E0%B8%B4%E0%B8%99%E0%B8%94%E0%B8%B2%E0%B8%8A%E0%B8%B1%E0%B8%A2\" title=\"ณภัทร โชคจินดาชัย\">ณภัทร โชคจินดาชัย</a></li>\n",
      "<li><a href=\"/wiki/%E0%B8%AD%E0%B8%A7%E0%B8%B1%E0%B8%8A_%E0%B8%A3%E0%B8%B1%E0%B8%95%E0%B8%99%E0%B8%9B%E0%B8%B4%E0%B8%93%E0%B8%91%E0%B8%B0\" title=\"อวัช รัตนปิณฑะ\">อวัช รัตนปิณฑะ</a></li>\n",
      "<li><a class=\"new\" href=\"/w/index.php?title=%E0%B8%95%E0%B9%89%E0%B8%99%E0%B8%AB%E0%B8%99_%E0%B8%95%E0%B8%B1%E0%B8%99%E0%B8%95%E0%B8%B4%E0%B9%80%E0%B8%A7%E0%B8%8A%E0%B8%81%E0%B8%B8%E0%B8%A5&amp;action=edit&amp;redlink=1\" title=\"ต้นหน ตันติเวชกุล (ไม่มีหน้านี้)\">ต้นหน ตันติเวชกุล</a></li>\n",
      "<li><a class=\"new\" href=\"/w/index.php?title=%E0%B8%AA%E0%B8%B2%E0%B8%A3%E0%B8%B4%E0%B8%A9%E0%B8%90%E0%B9%8C_%E0%B8%95%E0%B8%A3%E0%B8%B1%E0%B8%A2%E0%B9%80%E0%B8%A5%E0%B8%B4%E0%B8%A8%E0%B8%A7%E0%B8%B4%E0%B9%80%E0%B8%8A%E0%B8%B5%E0%B8%A2%E0%B8%A3&amp;action=edit&amp;redlink=1\" title=\"สาริษฐ์ ตรัยเลิศวิเชียร (ไม่มีหน้านี้)\">สาริษฐ์ ตรัยเลิศวิเชียร</a></li>\n",
      "<li><a class=\"new\" href=\"/w/index.php?title=%E0%B8%93%E0%B8%B1%E0%B8%8A%E0%B8%9E%E0%B8%B1%E0%B8%93%E0%B8%93%E0%B9%8C_%E0%B8%9B%E0%B8%A3%E0%B8%A1%E0%B8%B0%E0%B9%80%E0%B8%88%E0%B8%A3%E0%B8%B4%E0%B8%8D%E0%B9%82%E0%B8%A3%E0%B8%88%E0%B8%99%E0%B9%8C&amp;action=edit&amp;redlink=1\" title=\"ณัชพัณณ์ ปรมะเจริญโรจน์ (ไม่มีหน้านี้)\">ณัชพัณณ์ ปรมะเจริญโรจน์</a></li>\n",
      "<li><a href=\"/wiki/%E0%B8%98%E0%B8%B5%E0%B8%98%E0%B8%B1%E0%B8%8A_%E0%B8%A3%E0%B8%B1%E0%B8%95%E0%B8%99%E0%B8%A8%E0%B8%A3%E0%B8%B5%E0%B8%97%E0%B8%B1%E0%B8%A2\" title=\"ธีธัช รัตนศรีทัย\">ธีธัช รัตนศรีทัย</a></li>\n",
      "<li><a href=\"/wiki/%E0%B8%AD%E0%B8%B4%E0%B8%87%E0%B8%84%E0%B8%A3%E0%B8%B1%E0%B8%95_%E0%B8%94%E0%B8%B3%E0%B8%A3%E0%B8%87%E0%B8%84%E0%B9%8C%E0%B8%A8%E0%B8%B1%E0%B8%81%E0%B8%94%E0%B8%B4%E0%B9%8C%E0%B8%81%E0%B8%B8%E0%B8%A5\" title=\"อิงครัต ดำรงค์ศักดิ์กุล\">อิงครัต ดำรงค์ศักดิ์กุล</a></li>\n",
      "<li><a class=\"new\" href=\"/w/index.php?title=%E0%B8%88%E0%B8%B4%E0%B8%A3%E0%B8%B2%E0%B8%A2%E0%B8%B8%E0%B8%AA_%E0%B8%82%E0%B8%B2%E0%B8%A7%E0%B9%83%E0%B8%9A%E0%B9%84%E0%B8%A1%E0%B9%89&amp;action=edit&amp;redlink=1\" title=\"จิรายุส ขาวใบไม้ (ไม่มีหน้านี้)\">จิรายุส ขาวใบไม้</a></li>\n",
      "<li><a class=\"new\" href=\"/w/index.php?title=%E0%B8%81%E0%B8%93%E0%B8%B4%E0%B8%A8_%E0%B8%A7%E0%B8%B4%E0%B9%80%E0%B8%8A%E0%B8%B5%E0%B8%A2%E0%B8%A3%E0%B8%A7%E0%B8%99%E0%B8%B4%E0%B8%8A%E0%B8%81%E0%B8%B8%E0%B8%A5&amp;action=edit&amp;redlink=1\" title=\"กณิศ วิเชียรวนิชกุล (ไม่มีหน้านี้)\">กณิศ วิเชียรวนิชกุล</a></li>\n",
      "<li><a class=\"new\" href=\"/w/index.php?title=%E0%B9%81%E0%B8%94%E0%B8%99_%E0%B8%9E%E0%B8%A4%E0%B8%81%E0%B8%A9%E0%B9%8C%E0%B8%9E%E0%B8%A2%E0%B8%B8%E0%B8%87&amp;action=edit&amp;redlink=1\" title=\"แดน พฤกษ์พยุง (ไม่มีหน้านี้)\">แดน พฤกษ์พยุง</a></li>\n",
      "<li><a class=\"new\" href=\"/w/index.php?title=%E0%B8%9B%E0%B8%93%E0%B8%8A%E0%B8%B1%E0%B8%A2_%E0%B8%A8%E0%B8%A3%E0%B8%B5%E0%B8%AD%E0%B8%A3%E0%B8%B4%E0%B8%A2%E0%B8%B0%E0%B8%A3%E0%B8%B8%E0%B9%88%E0%B8%87%E0%B9%80%E0%B8%A3%E0%B8%B7%E0%B8%AD%E0%B8%87&amp;action=edit&amp;redlink=1\" title=\"ปณชัย ศรีอริยะรุ่งเรือง (ไม่มีหน้านี้)\">ปณชัย ศรีอริยะรุ่งเรือง</a></li>\n",
      "<li><a class=\"new\" href=\"/w/index.php?title=%E0%B8%81%E0%B8%B2%E0%B8%99%E0%B8%94%E0%B8%B4%E0%B8%A8_%E0%B8%A7%E0%B8%A3%E0%B8%A3%E0%B8%93%E0%B8%AD%E0%B8%A3%E0%B8%B8%E0%B8%93&amp;action=edit&amp;redlink=1\" title=\"กานดิศ วรรณอรุณ (ไม่มีหน้านี้)\">กานดิศ วรรณอรุณ</a></li>\n",
      "<li><a href=\"/wiki/%E0%B8%9E%E0%B8%B8%E0%B8%92%E0%B8%B4%E0%B8%9E%E0%B8%87%E0%B8%A8%E0%B9%8C_%E0%B8%AD%E0%B8%B1%E0%B8%AA%E0%B8%AA%E0%B8%A3%E0%B8%B1%E0%B8%95%E0%B8%99%E0%B8%81%E0%B8%B8%E0%B8%A5\" title=\"พุฒิพงศ์ อัสสรัตนกุล\">พุฒิพงศ์ อัสสรัตนกุล</a></li>\n",
      "<li><a href=\"/wiki/%E0%B8%81%E0%B8%A4%E0%B8%A9%E0%B8%8F%E0%B9%8C_%E0%B8%AD%E0%B8%B3%E0%B8%99%E0%B8%A7%E0%B8%A2%E0%B9%80%E0%B8%94%E0%B8%8A%E0%B8%81%E0%B8%A3\" title=\"กฤษฏ์ อำนวยเดชกร\">กฤษฏ์ อำนวยเดชกร</a></li>\n",
      "<li><a class=\"new\" href=\"/w/index.php?title=%E0%B8%9E%E0%B8%A5%E0%B8%A7%E0%B8%B4%E0%B8%8A%E0%B8%8D%E0%B9%8C_%E0%B9%80%E0%B8%81%E0%B8%95%E0%B8%B8%E0%B8%9B%E0%B8%A3%E0%B8%B0%E0%B8%A0%E0%B8%B2%E0%B8%81%E0%B8%A3&amp;action=edit&amp;redlink=1\" title=\"พลวิชญ์ เกตุประภากร (ไม่มีหน้านี้)\">พลวิชญ์ เกตุประภากร</a></li>\n",
      "<li><a href=\"/wiki/%E0%B8%9E%E0%B8%B2%E0%B8%A3%E0%B8%B4%E0%B8%AA_%E0%B8%AD%E0%B8%B4%E0%B8%99%E0%B8%97%E0%B8%A3%E0%B9%82%E0%B8%81%E0%B8%A1%E0%B8%B2%E0%B8%A5%E0%B8%A2%E0%B9%8C%E0%B8%AA%E0%B8%B8%E0%B8%95\" title=\"พาริส อินทรโกมาลย์สุต\">พาริส อินทรโกมาลย์สุต</a></li>\n",
      "<li><a class=\"new\" href=\"/w/index.php?title=%E0%B9%80%E0%B8%88%E0%B8%A9%E0%B8%8E%E0%B8%B2%E0%B8%A7%E0%B8%B1%E0%B8%92%E0%B8%99%E0%B9%8C_%E0%B8%AA%E0%B8%B8%E0%B8%A7%E0%B8%A3%E0%B8%A3%E0%B8%93%E0%B8%A7%E0%B8%99%E0%B8%B4%E0%B8%8A%E0%B8%81%E0%B8%B4%E0%B8%88&amp;action=edit&amp;redlink=1\" title=\"เจษฎาวัฒน์ สุวรรณวนิชกิจ (ไม่มีหน้านี้)\">เจษฎาวัฒน์ สุวรรณวนิชกิจ</a></li>\n",
      "<li><a href=\"/wiki/%E0%B8%A8%E0%B8%A7%E0%B8%A3%E0%B8%A3%E0%B8%A2%E0%B8%B2_%E0%B9%84%E0%B8%9E%E0%B8%A8%E0%B8%B2%E0%B8%A5%E0%B8%9E%E0%B8%A2%E0%B8%B1%E0%B8%84%E0%B8%86%E0%B9%8C\" title=\"ศวรรยา ไพศาลพยัคฆ์\">ศวรรยา ไพศาลพยัคฆ์</a></li></ul>\n"
     ]
    }
   ],
   "source": [
    "artist_list = soup.find('b', string='นาดาวบางกอก').find_next('ul')\n",
    "print(artist_list)"
   ]
  },
  {
   "cell_type": "code",
   "execution_count": 12,
   "id": "00d05f82",
   "metadata": {},
   "outputs": [
    {
     "name": "stdout",
     "output_type": "stream",
     "text": [
      "ศิรชัช เจียรถาวร\n",
      "กันต์ ชุณหวัตร\n",
      "ธนภพ ลีรัตนขจร\n",
      "โอบนิธิ วิวรรธนวรางค์\n",
      "ธิติ มหาโยธารักษ์\n",
      "วงศ์รวี นทีธร\n",
      "กฤษณภูมิ พิบูลสงคราม\n",
      "ชลธร คงยิ่งยง\n",
      "ศนันธฉัตร ธนพัฒน์พิศาล\n",
      "เขมิศรา พลเดช\n",
      "ณิชาภัทร ฉัตรชัยพลรัตน์\n",
      "นรีกุล เกตุประภากร\n",
      "กัญญาวีร์ สองเมือง\n",
      "ภาวดี คุ้มโชคไพศาล\n",
      "ชญานิษฐ์ ชาญสง่าเวช\n",
      "นฤภรกมล ฉายแสง\n",
      "อทิตยา เครก\n",
      "เสฎฐวุฒิ อนุสิทธิ์\n",
      "ณภัทร โชคจินดาชัย\n",
      "อวัช รัตนปิณฑะ\n",
      "ต้นหน ตันติเวชกุล\n",
      "สาริษฐ์ ตรัยเลิศวิเชียร\n",
      "ณัชพัณณ์ ปรมะเจริญโรจน์\n",
      "ธีธัช รัตนศรีทัย\n",
      "อิงครัต ดำรงค์ศักดิ์กุล\n",
      "จิรายุส ขาวใบไม้\n",
      "กณิศ วิเชียรวนิชกุล\n",
      "แดน พฤกษ์พยุง\n",
      "ปณชัย ศรีอริยะรุ่งเรือง\n",
      "กานดิศ วรรณอรุณ\n",
      "พุฒิพงศ์ อัสสรัตนกุล\n",
      "กฤษฏ์ อำนวยเดชกร\n",
      "พลวิชญ์ เกตุประภากร\n",
      "พาริส อินทรโกมาลย์สุต\n",
      "เจษฎาวัฒน์ สุวรรณวนิชกิจ\n",
      "ศวรรยา ไพศาลพยัคฆ์\n"
     ]
    }
   ],
   "source": [
    "for li1 in artist_list('li'):\n",
    "    print(li1.a.get_text())"
   ]
  },
  {
   "cell_type": "code",
   "execution_count": 13,
   "id": "a48d4f3c",
   "metadata": {},
   "outputs": [
    {
     "name": "stdout",
     "output_type": "stream",
     "text": [
      "อทิตยา เครก\n",
      "ต้นหน ตันติเวชกุล\n",
      "สาริษฐ์ ตรัยเลิศวิเชียร\n",
      "ณัชพัณณ์ ปรมะเจริญโรจน์\n",
      "จิรายุส ขาวใบไม้\n",
      "กณิศ วิเชียรวนิชกุล\n",
      "แดน พฤกษ์พยุง\n",
      "ปณชัย ศรีอริยะรุ่งเรือง\n",
      "กานดิศ วรรณอรุณ\n",
      "พลวิชญ์ เกตุประภากร\n",
      "เจษฎาวัฒน์ สุวรรณวนิชกิจ\n"
     ]
    }
   ],
   "source": [
    "for li2 in artist_list('a',class_ = \"new\"):\n",
    "    print(li2.get_text())"
   ]
  },
  {
   "cell_type": "code",
   "execution_count": 14,
   "id": "59c6e429",
   "metadata": {},
   "outputs": [
    {
     "data": {
      "text/plain": [
       "<table class=\"plainlinks fmbox fmbox-warning\" id=\"revision-info\" role=\"presentation\"><tbody><tr><td class=\"mbox-text\"><b>นี่เป็น<a href=\"/wiki/%E0%B8%A7%E0%B8%B4%E0%B8%98%E0%B8%B5%E0%B9%83%E0%B8%8A%E0%B9%89:%E0%B8%9B%E0%B8%A3%E0%B8%B0%E0%B8%A7%E0%B8%B1%E0%B8%95%E0%B8%B4%E0%B8%AB%E0%B8%99%E0%B9%89%E0%B8%B2\" title=\"วิธีใช้:ประวัติหน้า\">รุ่นแก้ไขเก่า</a>ของหน้านี้ ที่แก้ไขโดย <span id=\"mw-revision-name\"><a class=\"mw-userlink mw-anonuserlink\" data-mw-revid=\"8244422\" href=\"/wiki/%E0%B8%9E%E0%B8%B4%E0%B9%80%E0%B8%A8%E0%B8%A9:%E0%B9%80%E0%B8%A3%E0%B8%B7%E0%B9%88%E0%B8%AD%E0%B8%87%E0%B8%97%E0%B8%B5%E0%B9%88%E0%B9%80%E0%B8%82%E0%B8%B5%E0%B8%A2%E0%B8%99/223.204.218.13\" title=\"พิเศษ:เรื่องที่เขียน/223.204.218.13\"><bdi>223.204.218.13</bdi></a> <span class=\"mw-usertoollinks\">(<a class=\"new mw-usertoollinks-talk\" href=\"/w/index.php?title=%E0%B8%84%E0%B8%B8%E0%B8%A2%E0%B8%81%E0%B8%B1%E0%B8%9A%E0%B8%9C%E0%B8%B9%E0%B9%89%E0%B9%83%E0%B8%8A%E0%B9%89:223.204.218.13&amp;action=edit&amp;redlink=1\" title=\"คุยกับผู้ใช้:223.204.218.13 (ไม่มีหน้านี้)\">คุย</a>)</span></span> เมื่อ <span id=\"mw-revision-date\">19:58, 24 เมษายน 2562</span><span id=\"mw-revision-summary\"> <span class=\"comment\">(<span dir=\"auto\"><span class=\"autocomment\"><a href=\"#นักแสดงในสังกัด\">→‎นักแสดงในสังกัด</a></span></span>)</span></span> ซึ่งอาจแตกต่างจาก<span class=\"plainlinks\"><a class=\"external text\" href=\"https://th.wikipedia.org/wiki/%E0%B8%88%E0%B8%B5%E0%B8%94%E0%B8%B5%E0%B9%80%E0%B8%AD%E0%B8%8A\">รุ่นแก้ไขปัจจุบัน</a></span>มาก</b></td></tr></tbody></table>"
      ]
     },
     "execution_count": 14,
     "metadata": {},
     "output_type": "execute_result"
    }
   ],
   "source": [
    "soup.find('table')"
   ]
  },
  {
   "cell_type": "code",
   "execution_count": 15,
   "id": "fe81b542",
   "metadata": {},
   "outputs": [],
   "source": [
    "table = soup.find('span',class_ = \"mw-headline\",string = \"ภาพยนตร์\").find_next(\"table\")"
   ]
  },
  {
   "cell_type": "code",
   "execution_count": 16,
   "id": "17b97d30",
   "metadata": {},
   "outputs": [
    {
     "name": "stdout",
     "output_type": "stream",
     "text": [
      "<table class=\"wikitable\">\n",
      " <tbody>\n",
      "  <tr>\n",
      "   <th>\n",
      "    ปี พ.ศ.\n",
      "   </th>\n",
      "   <th>\n",
      "    เรื่อง\n",
      "   </th>\n",
      "   <th>\n",
      "    ผลิตโดย\n",
      "   </th>\n",
      "   <th>\n",
      "    วันเข้าฉาย\n",
      "   </th>\n",
      "   <th>\n",
      "    รายได้สูงสุด\n",
      "   </th>\n",
      "   <th\n"
     ]
    }
   ],
   "source": [
    "print(table.prettify()[0:200])"
   ]
  },
  {
   "cell_type": "code",
   "execution_count": 17,
   "id": "6ae9a3a9",
   "metadata": {},
   "outputs": [],
   "source": [
    "rows = table.findAll(\"tr\")"
   ]
  },
  {
   "cell_type": "code",
   "execution_count": 18,
   "id": "4b23f09a",
   "metadata": {},
   "outputs": [],
   "source": [
    "movies= []"
   ]
  },
  {
   "cell_type": "code",
   "execution_count": 19,
   "id": "db1fe31a",
   "metadata": {},
   "outputs": [
    {
     "name": "stdout",
     "output_type": "stream",
     "text": [
      "Error <tr>\n",
      "<th>ปี พ.ศ.</th>\n",
      "<th>เรื่อง</th>\n",
      "<th>ผลิตโดย</th>\n",
      "<th>วันเข้าฉาย</th>\n",
      "<th>รายได้สูงสุด\n",
      "</th>\n",
      "<th>หมายเหตุ\n",
      "</th></tr> \n",
      "\n"
     ]
    }
   ],
   "source": [
    "for r in rows :\n",
    "    movie = {}\n",
    "    link = r.find(\"a\")\n",
    "    if link is None:\n",
    "        print(\"Error\",str(r),\"\\n\")\n",
    "        continue\n",
    "    else:\n",
    "        movie[\"title\"] = link.get_text()\n",
    "        movie[\"url\"] = link[\"href\"]\n",
    "    movies.append(movie)\n",
    "\n",
    "    "
   ]
  },
  {
   "cell_type": "code",
   "execution_count": 20,
   "id": "b143887e",
   "metadata": {},
   "outputs": [
    {
     "name": "stdout",
     "output_type": "stream",
     "text": [
      "[{'title': 'แฟนเดย์..แฟนกันแค่วันเดียว', 'url': '/wiki/%E0%B9%81%E0%B8%9F%E0%B8%99%E0%B9%80%E0%B8%94%E0%B8%A2%E0%B9%8C..%E0%B9%81%E0%B8%9F%E0%B8%99%E0%B8%81%E0%B8%B1%E0%B8%99%E0%B9%81%E0%B8%84%E0%B9%88%E0%B8%A7%E0%B8%B1%E0%B8%99%E0%B9%80%E0%B8%94%E0%B8%B5%E0%B8%A2%E0%B8%A7'}, {'title': 'พรจากฟ้า', 'url': '/wiki/%E0%B8%9E%E0%B8%A3%E0%B8%88%E0%B8%B2%E0%B8%81%E0%B8%9F%E0%B9%89%E0%B8%B2'}, {'title': 'ฉลาดเกมส์โกง', 'url': '/wiki/%E0%B8%89%E0%B8%A5%E0%B8%B2%E0%B8%94%E0%B9%80%E0%B8%81%E0%B8%A1%E0%B8%AA%E0%B9%8C%E0%B9%82%E0%B8%81%E0%B8%87'}, {'title': 'เพื่อน..ที่ระลึก', 'url': '/wiki/%E0%B9%80%E0%B8%9E%E0%B8%B7%E0%B9%88%E0%B8%AD%E0%B8%99..%E0%B8%97%E0%B8%B5%E0%B9%88%E0%B8%A3%E0%B8%B0%E0%B8%A5%E0%B8%B6%E0%B8%81'}, {'title': 'น้อง.พี่.ที่รัก', 'url': '/wiki/%E0%B8%99%E0%B9%89%E0%B8%AD%E0%B8%87.%E0%B8%9E%E0%B8%B5%E0%B9%88.%E0%B8%97%E0%B8%B5%E0%B9%88%E0%B8%A3%E0%B8%B1%E0%B8%81'}, {'title': 'BNK48: GIRLS DON’T CRY', 'url': '/wiki/%E0%B8%9A%E0%B8%B5%E0%B9%80%E0%B8%AD%E0%B9%87%E0%B8%99%E0%B9%80%E0%B8%84%E0%B9%82%E0%B8%9F%E0%B8%A3%E0%B9%8C%E0%B8%95%E0%B8%B5%E0%B9%80%E0%B8%AD%E0%B8%95:_%E0%B9%80%E0%B8%81%E0%B8%B4%E0%B8%A3%E0%B9%8C%E0%B8%A5%E0%B8%94%E0%B8%AD%E0%B8%99%E0%B8%97%E0%B9%8C%E0%B8%84%E0%B8%A3%E0%B8%B2%E0%B8%A2'}, {'title': '2,215 เชื่อ บ้า กล้า ก้าว', 'url': '/wiki/2,215_%E0%B9%80%E0%B8%8A%E0%B8%B7%E0%B9%88%E0%B8%AD_%E0%B8%9A%E0%B9%89%E0%B8%B2_%E0%B8%81%E0%B8%A5%E0%B9%89%E0%B8%B2_%E0%B8%81%E0%B9%89%E0%B8%B2%E0%B8%A7'}, {'title': 'โฮมสเตย์', 'url': '/wiki/%E0%B9%82%E0%B8%AE%E0%B8%A1%E0%B8%AA%E0%B9%80%E0%B8%95%E0%B8%A2%E0%B9%8C_(%E0%B8%A0%E0%B8%B2%E0%B8%9E%E0%B8%A2%E0%B8%99%E0%B8%95%E0%B8%A3%E0%B9%8C%E0%B9%84%E0%B8%97%E0%B8%A2_%E0%B8%9E.%E0%B8%A8._2561)'}, {'title': 'Friend Zone ระวัง..สิ้นสุดทางเพื่อน', 'url': '/wiki/Friend_Zone_%E0%B8%A3%E0%B8%B0%E0%B8%A7%E0%B8%B1%E0%B8%87..%E0%B8%AA%E0%B8%B4%E0%B9%89%E0%B8%99%E0%B8%AA%E0%B8%B8%E0%B8%94%E0%B8%97%E0%B8%B2%E0%B8%87%E0%B9%80%E0%B8%9E%E0%B8%B7%E0%B9%88%E0%B8%AD%E0%B8%99'}, {'title': 'ไดอารี่ตุ๊ดซี่ส์ เดอะมูฟวี่', 'url': '/w/index.php?title=%E0%B9%84%E0%B8%94%E0%B8%AD%E0%B8%B2%E0%B8%A3%E0%B8%B5%E0%B9%88%E0%B8%95%E0%B8%B8%E0%B9%8A%E0%B8%94%E0%B8%8B%E0%B8%B5%E0%B9%88%E0%B8%AA%E0%B9%8C_%E0%B9%80%E0%B8%94%E0%B8%AD%E0%B8%B0%E0%B8%A1%E0%B8%B9%E0%B8%9F%E0%B8%A7%E0%B8%B5%E0%B9%88&action=edit&redlink=1'}, {'title': 'ไทม์แมชชีน', 'url': '/wiki/%E0%B9%84%E0%B8%97%E0%B8%A1%E0%B9%8C%E0%B9%81%E0%B8%A1%E0%B8%8A%E0%B8%8A%E0%B8%B5%E0%B8%99'}]\n"
     ]
    }
   ],
   "source": [
    "print(movies)"
   ]
  },
  {
   "cell_type": "code",
   "execution_count": null,
   "id": "a55105af",
   "metadata": {},
   "outputs": [],
   "source": []
  },
  {
   "cell_type": "code",
   "execution_count": 21,
   "id": "0a9ee312",
   "metadata": {},
   "outputs": [
    {
     "name": "stdout",
     "output_type": "stream",
     "text": [
      "[{'title': 'แฟนเดย์..แฟนกันแค่วันเดียว', 'url': '/wiki/%E0%B9%81%E0%B8%9F%E0%B8%99%E0%B9%80%E0%B8%94%E0%B8%A2%E0%B9%8C..%E0%B9%81%E0%B8%9F%E0%B8%99%E0%B8%81%E0%B8%B1%E0%B8%99%E0%B9%81%E0%B8%84%E0%B9%88%E0%B8%A7%E0%B8%B1%E0%B8%99%E0%B9%80%E0%B8%94%E0%B8%B5%E0%B8%A2%E0%B8%A7'}, {'title': 'พรจากฟ้า', 'url': '/wiki/%E0%B8%9E%E0%B8%A3%E0%B8%88%E0%B8%B2%E0%B8%81%E0%B8%9F%E0%B9%89%E0%B8%B2'}, {'title': 'ฉลาดเกมส์โกง', 'url': '/wiki/%E0%B8%89%E0%B8%A5%E0%B8%B2%E0%B8%94%E0%B9%80%E0%B8%81%E0%B8%A1%E0%B8%AA%E0%B9%8C%E0%B9%82%E0%B8%81%E0%B8%87'}, {'title': 'เพื่อน..ที่ระลึก', 'url': '/wiki/%E0%B9%80%E0%B8%9E%E0%B8%B7%E0%B9%88%E0%B8%AD%E0%B8%99..%E0%B8%97%E0%B8%B5%E0%B9%88%E0%B8%A3%E0%B8%B0%E0%B8%A5%E0%B8%B6%E0%B8%81'}, {'title': 'น้อง.พี่.ที่รัก', 'url': '/wiki/%E0%B8%99%E0%B9%89%E0%B8%AD%E0%B8%87.%E0%B8%9E%E0%B8%B5%E0%B9%88.%E0%B8%97%E0%B8%B5%E0%B9%88%E0%B8%A3%E0%B8%B1%E0%B8%81'}, {'title': 'BNK48: GIRLS DON’T CRY', 'url': '/wiki/%E0%B8%9A%E0%B8%B5%E0%B9%80%E0%B8%AD%E0%B9%87%E0%B8%99%E0%B9%80%E0%B8%84%E0%B9%82%E0%B8%9F%E0%B8%A3%E0%B9%8C%E0%B8%95%E0%B8%B5%E0%B9%80%E0%B8%AD%E0%B8%95:_%E0%B9%80%E0%B8%81%E0%B8%B4%E0%B8%A3%E0%B9%8C%E0%B8%A5%E0%B8%94%E0%B8%AD%E0%B8%99%E0%B8%97%E0%B9%8C%E0%B8%84%E0%B8%A3%E0%B8%B2%E0%B8%A2'}, {'title': '2,215 เชื่อ บ้า กล้า ก้าว', 'url': '/wiki/2,215_%E0%B9%80%E0%B8%8A%E0%B8%B7%E0%B9%88%E0%B8%AD_%E0%B8%9A%E0%B9%89%E0%B8%B2_%E0%B8%81%E0%B8%A5%E0%B9%89%E0%B8%B2_%E0%B8%81%E0%B9%89%E0%B8%B2%E0%B8%A7'}, {'title': 'โฮมสเตย์', 'url': '/wiki/%E0%B9%82%E0%B8%AE%E0%B8%A1%E0%B8%AA%E0%B9%80%E0%B8%95%E0%B8%A2%E0%B9%8C_(%E0%B8%A0%E0%B8%B2%E0%B8%9E%E0%B8%A2%E0%B8%99%E0%B8%95%E0%B8%A3%E0%B9%8C%E0%B9%84%E0%B8%97%E0%B8%A2_%E0%B8%9E.%E0%B8%A8._2561)'}, {'title': 'Friend Zone ระวัง..สิ้นสุดทางเพื่อน', 'url': '/wiki/Friend_Zone_%E0%B8%A3%E0%B8%B0%E0%B8%A7%E0%B8%B1%E0%B8%87..%E0%B8%AA%E0%B8%B4%E0%B9%89%E0%B8%99%E0%B8%AA%E0%B8%B8%E0%B8%94%E0%B8%97%E0%B8%B2%E0%B8%87%E0%B9%80%E0%B8%9E%E0%B8%B7%E0%B9%88%E0%B8%AD%E0%B8%99'}, {'title': 'ไดอารี่ตุ๊ดซี่ส์ เดอะมูฟวี่', 'url': '/w/index.php?title=%E0%B9%84%E0%B8%94%E0%B8%AD%E0%B8%B2%E0%B8%A3%E0%B8%B5%E0%B9%88%E0%B8%95%E0%B8%B8%E0%B9%8A%E0%B8%94%E0%B8%8B%E0%B8%B5%E0%B9%88%E0%B8%AA%E0%B9%8C_%E0%B9%80%E0%B8%94%E0%B8%AD%E0%B8%B0%E0%B8%A1%E0%B8%B9%E0%B8%9F%E0%B8%A7%E0%B8%B5%E0%B9%88&action=edit&redlink=1'}, {'title': 'ไทม์แมชชีน', 'url': '/wiki/%E0%B9%84%E0%B8%97%E0%B8%A1%E0%B9%8C%E0%B9%81%E0%B8%A1%E0%B8%8A%E0%B8%8A%E0%B8%B5%E0%B8%99'}]\n"
     ]
    }
   ],
   "source": [
    "print(movies)"
   ]
  },
  {
   "cell_type": "code",
   "execution_count": 22,
   "id": "62c23dd0",
   "metadata": {},
   "outputs": [
    {
     "ename": "NameError",
     "evalue": "name 'movie_soup' is not defined",
     "output_type": "error",
     "traceback": [
      "\u001b[1;31m---------------------------------------------------------------------------\u001b[0m",
      "\u001b[1;31mNameError\u001b[0m                                 Traceback (most recent call last)",
      "\u001b[1;32m~\\AppData\\Local\\Temp\\ipykernel_28588\\520523172.py\u001b[0m in \u001b[0;36m<module>\u001b[1;34m\u001b[0m\n\u001b[1;32m----> 1\u001b[1;33m \u001b[0mth\u001b[0m \u001b[1;33m=\u001b[0m \u001b[0mmovie_soup\u001b[0m\u001b[1;33m.\u001b[0m\u001b[0mfind\u001b[0m\u001b[1;33m(\u001b[0m\u001b[1;34m\"th\"\u001b[0m\u001b[1;33m,\u001b[0m\u001b[0mtext\u001b[0m \u001b[1;33m=\u001b[0m \u001b[0mlookup_str\u001b[0m\u001b[1;33m)\u001b[0m\u001b[1;33m\u001b[0m\u001b[1;33m\u001b[0m\u001b[0m\n\u001b[0m",
      "\u001b[1;31mNameError\u001b[0m: name 'movie_soup' is not defined"
     ]
    }
   ],
   "source": [
    "th = movie_soup.find(\"th\",text = lookup_str)"
   ]
  },
  {
   "cell_type": "code",
   "execution_count": 23,
   "id": "ebfa738e",
   "metadata": {},
   "outputs": [
    {
     "name": "stdout",
     "output_type": "stream",
     "text": [
      "processing แฟนเดย์..แฟนกันแค่วันเดียว...\n"
     ]
    },
    {
     "name": "stderr",
     "output_type": "stream",
     "text": [
      "C:\\Users\\User\\AppData\\Local\\Temp\\ipykernel_28588\\2739678399.py:10: DeprecationWarning: The 'text' argument to find()-type methods is deprecated. Use 'string' instead.\n",
      "  th = movie_soup.find(\"th\",text = lookup_str)\n"
     ]
    },
    {
     "name": "stdout",
     "output_type": "stream",
     "text": [
      "processing พรจากฟ้า...\n",
      "processing ฉลาดเกมส์โกง...\n",
      "processing เพื่อน..ที่ระลึก...\n",
      "processing น้อง.พี่.ที่รัก...\n",
      "processing BNK48: GIRLS DON’T CRY...\n",
      "processing 2,215 เชื่อ บ้า กล้า ก้าว...\n",
      "processing โฮมสเตย์...\n",
      "processing Friend Zone ระวัง..สิ้นสุดทางเพื่อน...\n",
      "processing ไดอารี่ตุ๊ดซี่ส์ เดอะมูฟวี่...\n",
      "processing ไทม์แมชชีน...\n"
     ]
    }
   ],
   "source": [
    "for i in range(len(movies)):\n",
    "    print(\"processing \"+movies[i]['title']+\"...\")\n",
    "    if movies[i]['title'] is None:\n",
    "        continue\n",
    "    movie_html = requests.get(\"http://th.wikipedia.com\"+ movies[i][\"url\"]).text\n",
    "    movie_soup = BeautifulSoup(movie_html, 'html.parser')\n",
    "    thdict = {\"director\":\"กำกับ\",\"release_date\":\"วันฉาย\",\"gross\":\"ทำเงิน\"}\n",
    "    \n",
    "    for field,lookup_str in thdict.items():\n",
    "        th = movie_soup.find(\"th\",text = lookup_str)\n",
    "        if th:\n",
    "            td = th.find_next(\"td\")\n",
    "            movies[i][field] = td.get_text()\n",
    "        else:\n",
    "            movies[i][field] = None\n",
    "    sleep(2)\n",
    "    "
   ]
  },
  {
   "cell_type": "code",
   "execution_count": 24,
   "id": "397a6028",
   "metadata": {},
   "outputs": [
    {
     "name": "stdout",
     "output_type": "stream",
     "text": [
      "\"แฟนเดย์..แฟนกันแค่วันเดียว\",\"บรรจง ปิสัญธนะกูล\",\"1 กันยายน พ.ศ. 2559\",\"111 ล้านบาท\"\n",
      "\"พรจากฟ้า\",\"จิระ มะลิกุล  นิธิวัฒน์ ธราธร ชยนพ บุญประกอบเกรียงไกร วชิรธรรมพร\",\"1 ธันวาคม พ.ศ. 2559 (โรงภาพยนตร์)31 ธันวาคม พ.ศ. 2559    (ช่องวัน) 1 มกราคม พ.ศ. 2560 (LINE TV และช่องวัน)31 ธันวาคม พ.ศ. 2560    (ช่องวัน)\",\"43 ล้านบาท\"\n",
      "\"ฉลาดเกมส์โกง\",\"นัฐวุฒิ พูนพิริยะ\",\"3 พฤษภาคม พ.ศ. 2560\",\"113 ล้านบาท[1]\"\n",
      "\"เพื่อน..ที่ระลึก\",\"โสภณ ศักดาพิศิษฏ์\",\"7 กันยายน พ.ศ. 2560\",\"35 ล้านบาท\"\n",
      "\"น้อง.พี่.ที่รัก\",\"วิทยา ทองอยู่ยง\",\"10 พฤษภาคม พ.ศ. 2561\",\"149 ล้านบาท(กรุงเทพมหานคร ปริมณฑล และจังหวัดเชียงใหม่)244 ล้านบาท (ทั่วประเทศ)[1]\"\n",
      "\"BNK48: GIRLS DON’T CRY\",\"นวพล ธำรงรัตนฤทธิ์\",\"16 สิงหาคม พ.ศ. 2561\",\"13.35 ล้านบาท[1](กรุงเทพฯ ปริมณฑล และเชียงใหม่)\"\n",
      "\"2,215 เชื่อ บ้า กล้า ก้าว\",\"ณฐพล บุญประกอบ\",\"6 กันยายน พ.ศ. 2561\",\"7.36 ล้านบาท(รอบปกติ)\"\n",
      "\"โฮมสเตย์\",\"ภาคภูมิ วงศ์ภูมิ\",\"25 ตุลาคม พ.ศ. 2561\",\"68 ล้านบาท (กรุงเทพฯ ปริมณฑล และเชียงใหม่)  121 ล้านบาท  (ทั่วประเทศ)\"\n",
      "\"Friend Zone ระวัง..สิ้นสุดทางเพื่อน\",\"ชยนพ บุญประกอบ\",\"14 กุมภาพันธ์ พ.ศ. 2562\",\"134 ล้านบาท(กรุงเทพมหานคร ปริมณฑล และจังหวัดเชียงใหม่)220 ล้านบาท (ทั่วประเทศ)\"\n",
      "\"ไดอารี่ตุ๊ดซี่ส์ เดอะมูฟวี่\",\"None\",\"None\",\"None\"\n",
      "\"ไทม์แมชชีน\",\"None\",\"None\",\"None\"\n"
     ]
    }
   ],
   "source": [
    "for m in range(len(movies)):\n",
    "    print('\"%s\",\"%s\",\"%s\",\"%s\"'%\n",
    "          (movies[m][\"title\"],movies[m][\"director\"],movies[m][\"release_date\"],movies[m][\"gross\"]) )   "
   ]
  },
  {
   "cell_type": "code",
   "execution_count": 26,
   "id": "cbfb1f03",
   "metadata": {},
   "outputs": [],
   "source": [
    "import pandas as pd"
   ]
  },
  {
   "cell_type": "code",
   "execution_count": 27,
   "id": "54f2ddc9",
   "metadata": {},
   "outputs": [],
   "source": [
    "movietable = pd.DataFrame(movies)"
   ]
  },
  {
   "cell_type": "markdown",
   "id": "d3e6160a",
   "metadata": {},
   "source": [
    "movietable "
   ]
  },
  {
   "cell_type": "code",
   "execution_count": 28,
   "id": "8b0d4241",
   "metadata": {},
   "outputs": [
    {
     "data": {
      "text/html": [
       "<div>\n",
       "<style scoped>\n",
       "    .dataframe tbody tr th:only-of-type {\n",
       "        vertical-align: middle;\n",
       "    }\n",
       "\n",
       "    .dataframe tbody tr th {\n",
       "        vertical-align: top;\n",
       "    }\n",
       "\n",
       "    .dataframe thead th {\n",
       "        text-align: right;\n",
       "    }\n",
       "</style>\n",
       "<table border=\"1\" class=\"dataframe\">\n",
       "  <thead>\n",
       "    <tr style=\"text-align: right;\">\n",
       "      <th></th>\n",
       "      <th>title</th>\n",
       "      <th>url</th>\n",
       "      <th>director</th>\n",
       "      <th>release_date</th>\n",
       "      <th>gross</th>\n",
       "    </tr>\n",
       "  </thead>\n",
       "  <tbody>\n",
       "    <tr>\n",
       "      <th>0</th>\n",
       "      <td>แฟนเดย์..แฟนกันแค่วันเดียว</td>\n",
       "      <td>/wiki/%E0%B9%81%E0%B8%9F%E0%B8%99%E0%B9%80%E0%...</td>\n",
       "      <td>บรรจง ปิสัญธนะกูล</td>\n",
       "      <td>1 กันยายน พ.ศ. 2559</td>\n",
       "      <td>111 ล้านบาท</td>\n",
       "    </tr>\n",
       "    <tr>\n",
       "      <th>1</th>\n",
       "      <td>พรจากฟ้า</td>\n",
       "      <td>/wiki/%E0%B8%9E%E0%B8%A3%E0%B8%88%E0%B8%B2%E0%...</td>\n",
       "      <td>จิระ มะลิกุล  นิธิวัฒน์ ธราธร ชยนพ บุญประกอบเก...</td>\n",
       "      <td>1 ธันวาคม พ.ศ. 2559 (โรงภาพยนตร์)31 ธันวาคม พ....</td>\n",
       "      <td>43 ล้านบาท</td>\n",
       "    </tr>\n",
       "    <tr>\n",
       "      <th>2</th>\n",
       "      <td>ฉลาดเกมส์โกง</td>\n",
       "      <td>/wiki/%E0%B8%89%E0%B8%A5%E0%B8%B2%E0%B8%94%E0%...</td>\n",
       "      <td>นัฐวุฒิ พูนพิริยะ</td>\n",
       "      <td>3 พฤษภาคม พ.ศ. 2560</td>\n",
       "      <td>113 ล้านบาท[1]</td>\n",
       "    </tr>\n",
       "    <tr>\n",
       "      <th>3</th>\n",
       "      <td>เพื่อน..ที่ระลึก</td>\n",
       "      <td>/wiki/%E0%B9%80%E0%B8%9E%E0%B8%B7%E0%B9%88%E0%...</td>\n",
       "      <td>โสภณ ศักดาพิศิษฏ์</td>\n",
       "      <td>7 กันยายน พ.ศ. 2560</td>\n",
       "      <td>35 ล้านบาท</td>\n",
       "    </tr>\n",
       "    <tr>\n",
       "      <th>4</th>\n",
       "      <td>น้อง.พี่.ที่รัก</td>\n",
       "      <td>/wiki/%E0%B8%99%E0%B9%89%E0%B8%AD%E0%B8%87.%E0...</td>\n",
       "      <td>วิทยา ทองอยู่ยง</td>\n",
       "      <td>10 พฤษภาคม พ.ศ. 2561</td>\n",
       "      <td>149 ล้านบาท(กรุงเทพมหานคร ปริมณฑล และจังหวัดเช...</td>\n",
       "    </tr>\n",
       "    <tr>\n",
       "      <th>5</th>\n",
       "      <td>BNK48: GIRLS DON’T CRY</td>\n",
       "      <td>/wiki/%E0%B8%9A%E0%B8%B5%E0%B9%80%E0%B8%AD%E0%...</td>\n",
       "      <td>นวพล ธำรงรัตนฤทธิ์</td>\n",
       "      <td>16 สิงหาคม พ.ศ. 2561</td>\n",
       "      <td>13.35 ล้านบาท[1](กรุงเทพฯ ปริมณฑล และเชียงใหม่)</td>\n",
       "    </tr>\n",
       "    <tr>\n",
       "      <th>6</th>\n",
       "      <td>2,215 เชื่อ บ้า กล้า ก้าว</td>\n",
       "      <td>/wiki/2,215_%E0%B9%80%E0%B8%8A%E0%B8%B7%E0%B9%...</td>\n",
       "      <td>ณฐพล บุญประกอบ</td>\n",
       "      <td>6 กันยายน พ.ศ. 2561</td>\n",
       "      <td>7.36 ล้านบาท(รอบปกติ)</td>\n",
       "    </tr>\n",
       "    <tr>\n",
       "      <th>7</th>\n",
       "      <td>โฮมสเตย์</td>\n",
       "      <td>/wiki/%E0%B9%82%E0%B8%AE%E0%B8%A1%E0%B8%AA%E0%...</td>\n",
       "      <td>ภาคภูมิ วงศ์ภูมิ</td>\n",
       "      <td>25 ตุลาคม พ.ศ. 2561</td>\n",
       "      <td>68 ล้านบาท (กรุงเทพฯ ปริมณฑล และเชียงใหม่)  12...</td>\n",
       "    </tr>\n",
       "    <tr>\n",
       "      <th>8</th>\n",
       "      <td>Friend Zone ระวัง..สิ้นสุดทางเพื่อน</td>\n",
       "      <td>/wiki/Friend_Zone_%E0%B8%A3%E0%B8%B0%E0%B8%A7%...</td>\n",
       "      <td>ชยนพ บุญประกอบ</td>\n",
       "      <td>14 กุมภาพันธ์ พ.ศ. 2562</td>\n",
       "      <td>134 ล้านบาท(กรุงเทพมหานคร ปริมณฑล และจังหวัดเช...</td>\n",
       "    </tr>\n",
       "    <tr>\n",
       "      <th>9</th>\n",
       "      <td>ไดอารี่ตุ๊ดซี่ส์ เดอะมูฟวี่</td>\n",
       "      <td>/w/index.php?title=%E0%B9%84%E0%B8%94%E0%B8%AD...</td>\n",
       "      <td>None</td>\n",
       "      <td>None</td>\n",
       "      <td>None</td>\n",
       "    </tr>\n",
       "    <tr>\n",
       "      <th>10</th>\n",
       "      <td>ไทม์แมชชีน</td>\n",
       "      <td>/wiki/%E0%B9%84%E0%B8%97%E0%B8%A1%E0%B9%8C%E0%...</td>\n",
       "      <td>None</td>\n",
       "      <td>None</td>\n",
       "      <td>None</td>\n",
       "    </tr>\n",
       "  </tbody>\n",
       "</table>\n",
       "</div>"
      ],
      "text/plain": [
       "                                  title  \\\n",
       "0            แฟนเดย์..แฟนกันแค่วันเดียว   \n",
       "1                              พรจากฟ้า   \n",
       "2                          ฉลาดเกมส์โกง   \n",
       "3                      เพื่อน..ที่ระลึก   \n",
       "4                       น้อง.พี่.ที่รัก   \n",
       "5                BNK48: GIRLS DON’T CRY   \n",
       "6             2,215 เชื่อ บ้า กล้า ก้าว   \n",
       "7                              โฮมสเตย์   \n",
       "8   Friend Zone ระวัง..สิ้นสุดทางเพื่อน   \n",
       "9           ไดอารี่ตุ๊ดซี่ส์ เดอะมูฟวี่   \n",
       "10                           ไทม์แมชชีน   \n",
       "\n",
       "                                                  url  \\\n",
       "0   /wiki/%E0%B9%81%E0%B8%9F%E0%B8%99%E0%B9%80%E0%...   \n",
       "1   /wiki/%E0%B8%9E%E0%B8%A3%E0%B8%88%E0%B8%B2%E0%...   \n",
       "2   /wiki/%E0%B8%89%E0%B8%A5%E0%B8%B2%E0%B8%94%E0%...   \n",
       "3   /wiki/%E0%B9%80%E0%B8%9E%E0%B8%B7%E0%B9%88%E0%...   \n",
       "4   /wiki/%E0%B8%99%E0%B9%89%E0%B8%AD%E0%B8%87.%E0...   \n",
       "5   /wiki/%E0%B8%9A%E0%B8%B5%E0%B9%80%E0%B8%AD%E0%...   \n",
       "6   /wiki/2,215_%E0%B9%80%E0%B8%8A%E0%B8%B7%E0%B9%...   \n",
       "7   /wiki/%E0%B9%82%E0%B8%AE%E0%B8%A1%E0%B8%AA%E0%...   \n",
       "8   /wiki/Friend_Zone_%E0%B8%A3%E0%B8%B0%E0%B8%A7%...   \n",
       "9   /w/index.php?title=%E0%B9%84%E0%B8%94%E0%B8%AD...   \n",
       "10  /wiki/%E0%B9%84%E0%B8%97%E0%B8%A1%E0%B9%8C%E0%...   \n",
       "\n",
       "                                             director  \\\n",
       "0                                   บรรจง ปิสัญธนะกูล   \n",
       "1   จิระ มะลิกุล  นิธิวัฒน์ ธราธร ชยนพ บุญประกอบเก...   \n",
       "2                                   นัฐวุฒิ พูนพิริยะ   \n",
       "3                                   โสภณ ศักดาพิศิษฏ์   \n",
       "4                                     วิทยา ทองอยู่ยง   \n",
       "5                                  นวพล ธำรงรัตนฤทธิ์   \n",
       "6                                      ณฐพล บุญประกอบ   \n",
       "7                                    ภาคภูมิ วงศ์ภูมิ   \n",
       "8                                      ชยนพ บุญประกอบ   \n",
       "9                                                None   \n",
       "10                                               None   \n",
       "\n",
       "                                         release_date  \\\n",
       "0                                 1 กันยายน พ.ศ. 2559   \n",
       "1   1 ธันวาคม พ.ศ. 2559 (โรงภาพยนตร์)31 ธันวาคม พ....   \n",
       "2                                 3 พฤษภาคม พ.ศ. 2560   \n",
       "3                                 7 กันยายน พ.ศ. 2560   \n",
       "4                                10 พฤษภาคม พ.ศ. 2561   \n",
       "5                                16 สิงหาคม พ.ศ. 2561   \n",
       "6                                 6 กันยายน พ.ศ. 2561   \n",
       "7                                 25 ตุลาคม พ.ศ. 2561   \n",
       "8                             14 กุมภาพันธ์ พ.ศ. 2562   \n",
       "9                                                None   \n",
       "10                                               None   \n",
       "\n",
       "                                                gross  \n",
       "0                                         111 ล้านบาท  \n",
       "1                                          43 ล้านบาท  \n",
       "2                                      113 ล้านบาท[1]  \n",
       "3                                          35 ล้านบาท  \n",
       "4   149 ล้านบาท(กรุงเทพมหานคร ปริมณฑล และจังหวัดเช...  \n",
       "5     13.35 ล้านบาท[1](กรุงเทพฯ ปริมณฑล และเชียงใหม่)  \n",
       "6                               7.36 ล้านบาท(รอบปกติ)  \n",
       "7   68 ล้านบาท (กรุงเทพฯ ปริมณฑล และเชียงใหม่)  12...  \n",
       "8   134 ล้านบาท(กรุงเทพมหานคร ปริมณฑล และจังหวัดเช...  \n",
       "9                                                None  \n",
       "10                                               None  "
      ]
     },
     "execution_count": 28,
     "metadata": {},
     "output_type": "execute_result"
    }
   ],
   "source": [
    "movietable"
   ]
  },
  {
   "cell_type": "code",
   "execution_count": null,
   "id": "3e8b4a40",
   "metadata": {},
   "outputs": [],
   "source": []
  }
 ],
 "metadata": {
  "kernelspec": {
   "display_name": "Python 3 (ipykernel)",
   "language": "python",
   "name": "python3"
  },
  "language_info": {
   "codemirror_mode": {
    "name": "ipython",
    "version": 3
   },
   "file_extension": ".py",
   "mimetype": "text/x-python",
   "name": "python",
   "nbconvert_exporter": "python",
   "pygments_lexer": "ipython3",
   "version": "3.9.13"
  }
 },
 "nbformat": 4,
 "nbformat_minor": 5
}
